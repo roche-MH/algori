{
 "cells": [
  {
   "cell_type": "markdown",
   "metadata": {},
   "source": [
    "# 알고리즘 복잡도 표현"
   ]
  },
  {
   "cell_type": "markdown",
   "metadata": {},
   "source": [
    "## 알고리즘 복잡도 계산이 필요한 이유\n",
    "### 하나의 문제를 푸는 알고리즘은 다양할수 있다\n",
    "- 정수의 절대값 구하기\n",
    "    - 1,-1 ->> 1\n",
    "    - 방법1: 정수값을 제곱한 값에 다시 루트를 씌우기\n",
    "    - 방법2: 정수가 음수인지 확인해서, 음수일때만, -1을 곱하기\n",
    "\n",
    "> 다양한 알고리즘중 어느 알고리즘이 더 좋은지를 분석하기 위해, 복잡도를 정의하고 계산함"
   ]
  },
  {
   "cell_type": "markdown",
   "metadata": {},
   "source": [
    "## 알고리즘 복잡도 계산 항목\n",
    "1. 시간복잡도 : 알고리즘 실행 속도\n",
    "2. 공간 복잡도 : 알고리즘이 사용하는 메모리 사이즈\n",
    "\n",
    "> 시간복잡도는 어느정도 계산해야 하고 공간복잡도는 하드웨어 발전으로 최근 많이 영향을 주지 않는다"
   ]
  },
  {
   "cell_type": "markdown",
   "metadata": {},
   "source": [
    "### 알고리즘 시간 복잡도의 주요 요소\n",
    "> 반복문 처리가 중요하다\n",
    "\n",
    "### 프로그래밍에서 시간 복잡도에 가장 영향을 많이 미치는 요소는 반복문!!\n",
    "- 입력의 크기가 커지면 커질수록 반복문이 알고리즘 수행시간을 지배한다.\n"
   ]
  },
  {
   "cell_type": "markdown",
   "metadata": {},
   "source": [
    "## 알고리즘 성능 표기법\n",
    "- Big O(빅-오)표기법 : O(N)\n",
    "    - 알고리즘 최악의 실행 시간을 표기\n",
    "    - **가장 많이/ 일반적으로 사용함**\n",
    "    - **아무리 최악의 상황이라도, 이정도의 성능은 보장한다는 의미**\n",
    "\n",
    "- Ω (오메가) 표기법:  Ω(N)\n",
    "  - 오메가 표기법은 알고리즘 최상의 실행 시간을 표기\n",
    "\n",
    "- Θ (세타) 표기법: Θ(N)\n",
    "  - 오메가 표기법은 알고리즘 평균 실행 시간을 표기\n",
    "\n",
    "> 시간 복잡도 계산은 반복문이 핵심 요소임을 인지하고, 계산 표기는 최상, 평균, 최악 중, 최악의 시간인 Big-O 표기법을 중심으로 익히면 됨 "
   ]
  },
  {
   "cell_type": "markdown",
   "metadata": {},
   "source": [
    "### 대문자 O 표기법\n",
    "* 빅 오 표기법, Big-O 표기법 이라고도 부름\n",
    "* O(입력)\n",
    "  - 입력 n 에 따라 결정되는 시간 복잡도 함수\n",
    "  - O(1), O($log n$), O(n), O(n$log n$), O($n^2$), O($2^n$), O(n!)등으로 표기함\n",
    "  - 입력 n 의 크기에 따라 기하급수적으로 시간 복잡도가 늘어날 수 있음\n",
    "    - O(1) < O($log n$) < O(n) < O(n$log n$) < O($n^2$) < O($2^n$) < O(n!)\n",
    "      - 참고: log n 의 베이스는 2 - $log_2 n$\n",
    "\n",
    "* 단순하게 입력 n에 따라, 몇번 실행이 되는지를 계산하면 됩니다.\n",
    "  - **표현식에 가장 큰 영향을 미치는 n 의 단위로 표기합니다.**\n",
    "  - n이 1이든 100이든, 1000이든, 10000이든 실행을\n",
    "    - 무조건 2회(상수회) 실행한다: O(1) \n",
    "       ```python\n",
    "            if n > 10: ## 1회\n",
    "                 print(n) ## 1회\n",
    "       ```\n",
    "    - n에 따라, n번, n + 10 번, 또는 3n + 10 번등 실행한다: O(n)\n",
    "       ```python\n",
    "            variable = 1\n",
    "            for num in range(3):\n",
    "                for index in range(n):\n",
    "                     print(index)\n",
    "       ```\n",
    "    - n에 따라, $n^2$번, $n^2$ + 1000 번, 100$n^2$ - 100, 또는 300$n^2$ + 1번등 실행한다: O($n^2$)\n",
    "       ```python\n",
    "            variable = 1\n",
    "            for i in range(300):\n",
    "                for num in range(n):\n",
    "                    for index in range(n):\n",
    "                         print(index)\n",
    "       ```     \n",
    "       \n",
    "<img src=\"http://www.fun-coding.org/00_Images/bigo.png\" width=400/>"
   ]
  },
  {
   "cell_type": "markdown",
   "metadata": {},
   "source": [
    "* 빅 오 입력값 표기 방법\n",
    "  - 예: \n",
    "    - 만약 시간 복잡도 함수가 2$n^2$ + 3n 이라면\n",
    "      - 가장 높은 차수는 2$n^2$ \n",
    "      - 상수는 실제 큰 영향이 없음 \n",
    "      - 결국 빅 오 표기법으로는 O($n^2$) (서울부터 부산까지 가는 자동차의 예를 상기)\n"
   ]
  },
  {
   "cell_type": "markdown",
   "metadata": {},
   "source": [
    "### 1부터 N까지 합구하기 2가지\n",
    "* 반복문을 통해 1~n 까지 더함\n",
    "* <font size=5em>$\\frac { n (n + 1) }{ 2 }$</font>"
   ]
  },
  {
   "cell_type": "code",
   "execution_count": 9,
   "metadata": {},
   "outputs": [],
   "source": [
    "def sum_all(n):\n",
    "    total = 0\n",
    "    for num in range(1,n+1):\n",
    "        total +=num\n",
    "    return total"
   ]
  },
  {
   "cell_type": "code",
   "execution_count": 10,
   "metadata": {},
   "outputs": [],
   "source": [
    "def sum_all2(n):\n",
    "    return int(n * (n+1) / 2)"
   ]
  },
  {
   "cell_type": "code",
   "execution_count": 12,
   "metadata": {},
   "outputs": [
    {
     "name": "stdout",
     "output_type": "stream",
     "text": [
      "5050\n",
      "5050\n"
     ]
    }
   ],
   "source": [
    "print(sum_all(100)) ## 시간 복잡도 O(n)\n",
    "print(sum_all2(100)) ## 시간 복잡도 O(1)"
   ]
  }
 ],
 "metadata": {
  "kernelspec": {
   "display_name": "Python 3",
   "language": "python",
   "name": "python3"
  },
  "language_info": {
   "codemirror_mode": {
    "name": "ipython",
    "version": 3
   },
   "file_extension": ".py",
   "mimetype": "text/x-python",
   "name": "python",
   "nbconvert_exporter": "python",
   "pygments_lexer": "ipython3",
   "version": "3.7.6"
  }
 },
 "nbformat": 4,
 "nbformat_minor": 4
}
