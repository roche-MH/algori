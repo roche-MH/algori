{
 "cells": [
  {
   "cell_type": "markdown",
   "metadata": {},
   "source": [
    "# 대표적인 데이터 구조: 링크드 리스트(Linked List)"
   ]
  },
  {
   "cell_type": "markdown",
   "metadata": {},
   "source": [
    "## 간단설명\n",
    "- 배열에 값을 넣기 위해서는 미리 배열의 사이즈를 입력해야된다. 이 부분을 보완 하기 위해서 링크드 리스트가 나옴\n",
    "- 미리 사이즈를 입력하지 않고 데이터를 넣을때 배열을 추가할수 있도록 하기 위해 만듬"
   ]
  },
  {
   "cell_type": "markdown",
   "metadata": {},
   "source": [
    "## 링크드 리스트 구조\n",
    "- 연결 리스트라고도 한다.\n",
    "- 배열은 순차적으로 연결된 공간에 데이터를 나열하는 데이터 구조\n",
    "- 링크드 리스트는 떨어진 곳에 존재하는 데이터를 화살표로 연결해서 관리하는 데이터 구조\n",
    "- 본래 C언어에서는 주요한 데이터 구조이지만, 파이썬은 리스트 타입이 링크드 리스트의 기능을 모두 지원\n",
    "\n",
    "- 링크드 리스트 기본 구조와 용어\n",
    "    - 노드(Node) : 데이터 저장단위(데이터값, 포인터)로 구성\n",
    "    - 포인터(pointer): 각 노드 안에서, 다음이나 이전의 노드와의 연결 정보를 가지고 있는 공간"
   ]
  },
  {
   "cell_type": "markdown",
   "metadata": {},
   "source": [
    "* 일반적인 링크드 리스트 형태\n",
    "<img src=\"https://www.fun-coding.org/00_Images/linkedlist.png\" />\n",
    "- 다음 데이터를 가르키는 주소값(포인터)를 가지고 있다."
   ]
  },
  {
   "cell_type": "markdown",
   "metadata": {},
   "source": [
    "# 링크드 리스트"
   ]
  },
  {
   "cell_type": "markdown",
   "metadata": {},
   "source": [
    "## Node 구현\n",
    "- 보통 파이썬에서 링크드 리스트 구현시, 파이썬 클래스를 활용한다.\n",
    "    - 파이썬 객체지향 문법 이해 필요함"
   ]
  },
  {
   "cell_type": "code",
   "execution_count": 18,
   "metadata": {},
   "outputs": [],
   "source": [
    "class Node:\n",
    "    def __init__(self, data, next=None):\n",
    "        self.data = data\n",
    "        self.next = next\n",
    "        \n",
    "#입력시 (data,next(주소)) 이렇게 입력한다. 이때 data 만 넣는다면\n",
    "# 마지막으로 인식"
   ]
  },
  {
   "cell_type": "markdown",
   "metadata": {},
   "source": [
    "### Node 와 Node 연결(포인터 활용)"
   ]
  },
  {
   "cell_type": "code",
   "execution_count": 19,
   "metadata": {},
   "outputs": [],
   "source": [
    "node1 = Node(1)\n",
    "node2 = Node(2)\n",
    "node1.next = node2 #node1의 next 값에 node2를 넣어줌\n",
    "head = node1 #맨 처음을 인식하기 위해서 head 변수에 node1를 넣어줌"
   ]
  },
  {
   "cell_type": "markdown",
   "metadata": {},
   "source": [
    "### 링크드 리스트로 데이터 추가"
   ]
  },
  {
   "cell_type": "code",
   "execution_count": 20,
   "metadata": {},
   "outputs": [],
   "source": [
    "class Node:\n",
    "    def __init__(self, data, next=None):\n",
    "        self.data = data\n",
    "        self.next = next\n",
    "\n",
    "def add(data):\n",
    "    node=head\n",
    "    while node.next:\n",
    "        node= node.next\n",
    "    node.next = Node(data)"
   ]
  },
  {
   "cell_type": "code",
   "execution_count": 29,
   "metadata": {},
   "outputs": [],
   "source": [
    "node1 = Node(1)\n",
    "head = node1\n",
    "for i in range(2,10):\n",
    "    add(i)\n"
   ]
  },
  {
   "cell_type": "code",
   "execution_count": 30,
   "metadata": {},
   "outputs": [
    {
     "name": "stdout",
     "output_type": "stream",
     "text": [
      "1\n",
      "2\n",
      "3\n",
      "4\n",
      "5\n",
      "6\n",
      "7\n",
      "8\n",
      "9\n"
     ]
    }
   ],
   "source": [
    "node = head\n",
    "while node.next:\n",
    "    print(node.data)\n",
    "    node = node.next\n",
    "print(node.data)"
   ]
  },
  {
   "cell_type": "markdown",
   "metadata": {},
   "source": [
    "# 면접(링크드 리스트의 장단점)\n",
    "- 장점\n",
    "    - 미리 데이터 공간을 미리 할당하지 않아도 됨\n",
    "        - 배열은 미리 데이터 공간을 할당해야 한다.\n",
    "- 단점\n",
    "    - 연결을 위한 별도 데이터 공간이 필요하므로, 저장공간 효율이 높지 않음\n",
    "    - 연결 정보를 찾는 시간이 필요하므로 접근 속도가 느림\n",
    "    - 중간 데이터 삭제시, 앞뒤 데이터의 연결을 재구성 해야 하는 부가적인 작업 필요\n",
    "    "
   ]
  },
  {
   "cell_type": "markdown",
   "metadata": {},
   "source": [
    "# 링크드 리스트 데이터 사이에 데이터를 추가\n",
    "- 링크드 리스트는 유지 관리에 부가적인 구현이 필요함\n",
    "<img src=\"https://www.fun-coding.org/00_Images/linkedlistadd.png\" />"
   ]
  },
  {
   "cell_type": "code",
   "execution_count": 31,
   "metadata": {},
   "outputs": [
    {
     "name": "stdout",
     "output_type": "stream",
     "text": [
      "1\n",
      "2\n",
      "3\n",
      "4\n",
      "5\n",
      "6\n",
      "7\n",
      "8\n",
      "9\n"
     ]
    }
   ],
   "source": [
    "node = head\n",
    "while node.next:\n",
    "    print(node.data)\n",
    "    node = node.next\n",
    "print (node.data)"
   ]
  },
  {
   "cell_type": "code",
   "execution_count": 32,
   "metadata": {},
   "outputs": [],
   "source": [
    "node3 = Node(1.5)"
   ]
  },
  {
   "cell_type": "code",
   "execution_count": 33,
   "metadata": {},
   "outputs": [],
   "source": [
    "node = head\n",
    "search = True\n",
    "while search:\n",
    "    if node.data == 1:\n",
    "        search = False\n",
    "    else:\n",
    "        node = node.next\n",
    "\n",
    "node_next = node.next\n",
    "node.next = node3\n",
    "node3.next = node_next"
   ]
  },
  {
   "cell_type": "code",
   "execution_count": 34,
   "metadata": {},
   "outputs": [
    {
     "name": "stdout",
     "output_type": "stream",
     "text": [
      "1\n",
      "1.5\n",
      "2\n",
      "3\n",
      "4\n",
      "5\n",
      "6\n",
      "7\n",
      "8\n",
      "9\n"
     ]
    }
   ],
   "source": [
    "node = head\n",
    "while node.next:\n",
    "    print(node.data)\n",
    "    node = node.next\n",
    "print (node.data)"
   ]
  }
 ],
 "metadata": {
  "kernelspec": {
   "display_name": "Python 3",
   "language": "python",
   "name": "python3"
  },
  "language_info": {
   "codemirror_mode": {
    "name": "ipython",
    "version": 3
   },
   "file_extension": ".py",
   "mimetype": "text/x-python",
   "name": "python",
   "nbconvert_exporter": "python",
   "pygments_lexer": "ipython3",
   "version": "3.7.6"
  }
 },
 "nbformat": 4,
 "nbformat_minor": 4
}
