{
 "cells": [
  {
   "cell_type": "markdown",
   "metadata": {},
   "source": [
    "# 삽입정렬\n",
    "## 삽입정렬이란?\n",
    "- 삽입 정렬은 두번째 인덱스부터 시작\n",
    "- 해당 인덱스(key 값) 앞에 있는 데이터(B)부터 비교해서 key 값이 더 작으면, B 값을 뒤 인덱스로 복사\n",
    "- 이를 key값이 더 큰 데이터를 만날때까지 반복, 그리고 큰 데이터를 만난 위치 바로 뒤에 key 값을 이동\n",
    "<img src=\"https://upload.wikimedia.org/wikipedia/commons/9/9c/Insertion-sort-example.gif\" />"
   ]
  },
  {
   "cell_type": "code",
   "execution_count": 1,
   "metadata": {},
   "outputs": [
    {
     "name": "stdout",
     "output_type": "stream",
     "text": [
      "10\n",
      "9\n",
      "8\n",
      "7\n",
      "6\n",
      "5\n",
      "4\n",
      "3\n",
      "2\n"
     ]
    }
   ],
   "source": [
    "for index in range(10, 1, -1):\n",
    "    print (index)"
   ]
  },
  {
   "cell_type": "markdown",
   "metadata": {},
   "source": [
    "## 알고리즘 구현\n",
    "1. for stand in range(len(data_list)) 로 반복\n",
    "2. key = data_list[stand]\n",
    "3. for num in range(stand, 0, -1) 반복\n",
    "   - 내부 반복문 안에서 data_list[stand] < data_list[num - 1] 이면, \n",
    "     - data_list[num - 1], data_list[num] = data_list[num], data_list[num - 1]   "
   ]
  },
  {
   "cell_type": "code",
   "execution_count": 2,
   "metadata": {},
   "outputs": [],
   "source": [
    "def insertion_sort(data):\n",
    "    for index in range(len(data) - 1):\n",
    "        for index2 in range(index + 1, 0, -1):\n",
    "            if data[index2] < data[index2 - 1]:\n",
    "                data[index2], data[index2 - 1] = data[index2 - 1], data[index2]\n",
    "            else:\n",
    "                break\n",
    "    return data"
   ]
  },
  {
   "cell_type": "code",
   "execution_count": 3,
   "metadata": {},
   "outputs": [
    {
     "name": "stdout",
     "output_type": "stream",
     "text": [
      "[2, 4, 5, 6, 7, 12, 13, 14, 15, 16, 17, 19, 20, 22, 23, 26, 29, 30, 32, 33, 35, 36, 37, 42, 43, 45, 46, 49, 51, 52, 56, 61, 62, 67, 71, 76, 77, 83, 84, 85, 87, 88, 89, 91, 92, 93, 94, 95, 96, 97]\n"
     ]
    }
   ],
   "source": [
    "import random\n",
    "\n",
    "data_list = random.sample(range(100), 50)\n",
    "print (insertion_sort(data_list))"
   ]
  }
 ],
 "metadata": {
  "kernelspec": {
   "display_name": "Python 3",
   "language": "python",
   "name": "python3"
  },
  "language_info": {
   "codemirror_mode": {
    "name": "ipython",
    "version": 3
   },
   "file_extension": ".py",
   "mimetype": "text/x-python",
   "name": "python",
   "nbconvert_exporter": "python",
   "pygments_lexer": "ipython3",
   "version": "3.7.6"
  }
 },
 "nbformat": 4,
 "nbformat_minor": 4
}
